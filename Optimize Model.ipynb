{
 "cells": [
  {
   "cell_type": "code",
   "execution_count": 1,
   "metadata": {},
   "outputs": [
    {
     "name": "stderr",
     "output_type": "stream",
     "text": [
      "C:\\Users\\simir\\Anaconda3\\lib\\site-packages\\h5py\\__init__.py:36: FutureWarning: Conversion of the second argument of issubdtype from `float` to `np.floating` is deprecated. In future, it will be treated as `np.float64 == np.dtype(float).type`.\n",
      "  from ._conv import register_converters as _register_converters\n",
      "Using TensorFlow backend.\n"
     ]
    }
   ],
   "source": [
    "from keras.applications.inception_v3 import InceptionV3\n",
    "from keras.optimizers import SGD\n",
    "from keras.preprocessing.image import ImageDataGenerator\n",
    "from keras.models import Model\n",
    "from keras.layers import Dense, GlobalAveragePooling3D"
   ]
  },
  {
   "cell_type": "code",
   "execution_count": 5,
   "metadata": {},
   "outputs": [],
   "source": [
    "import talos as ta\n",
    "import wrangle as wr\n",
    "from talos.metrics.keras_metrics import fmeasure_acc\n",
    "from talos import live\n",
    "\n",
    "import pandas as pd\n",
    "\n",
    "from keras.models import Sequential\n",
    "from keras.layers import Dropout, Dense\n",
    "\n",
    "# Keras items\n",
    "from keras.optimizers import Adam, Nadam\n",
    "from keras.activations import relu, elu\n",
    "from keras.losses import categorical_crossentropy"
   ]
  },
  {
   "cell_type": "code",
   "execution_count": 7,
   "metadata": {},
   "outputs": [],
   "source": [
    "def load_images(folder):\n",
    "    images = [loadmat(os.path.join(folder, filename))['X'] for filename in os.listdir(folder) if filename.endswith('.mat')]\n",
    "    classification = [loadmat(os.path.join(folder, filename))['TICI_report'] for filename in os.listdir(folder) if filename.endswith('.mat')]\n",
    "    return images, classification"
   ]
  },
  {
   "cell_type": "code",
   "execution_count": 8,
   "metadata": {},
   "outputs": [],
   "source": [
    "def dsa_classifier_model(x_train, y_train, x_test, y_test, params):\n",
    "    train_d_gen = ImageDataGenerator(\n",
    "        rotation_range=20,\n",
    "        width_shift_range=0.2,\n",
    "        height_shift_range=0.2,\n",
    "        horizontal_flip=True)\n",
    "    \n",
    "    train_d_gen.fit(x_train)\n",
    "    \n",
    "    train_generator = train_d_gen.flow(x_train, y_train, batch_size)\n",
    "    \n",
    "    validation_generator = ImageDataGenerator().flow(x_test, y_test)\n",
    "    \n",
    "    base_model = InceptionV3(weights='imagenet', include_top=False)\n",
    "\n",
    "    # DNN portion\n",
    "    # average pooling layer\n",
    "    x = GlobalAveragePooling3D()(base_model.output)\n",
    "    # fully-connected layer\n",
    "    x = Dense(1024, activation=params['activation'])(x)\n",
    "    # logistic layer\n",
    "    predictions = Dense(5, activation=params['last_activation'])(x) # 5 is the number of classes in the data, since TICI is 0,1,2a,2b,3\n",
    "\n",
    "    model = Model(inputs=base_model.input, outputs=predictions)\n",
    "\n",
    "    model.compile(loss=params['losses'],\n",
    "                  optimizer=params['optimizer'](),\n",
    "                  metrics=['acc', fmeasure_acc])\n",
    "    \n",
    "    history = model.fit_generator(\n",
    "        train_generator,\n",
    "        validation_data=validation_generator,\n",
    "        batch_size=params['batch_size'],\n",
    "        callbacks=[live()],\n",
    "        epochs=params['epochs'])\n",
    "\n",
    "    return history, model"
   ]
  },
  {
   "cell_type": "code",
   "execution_count": 9,
   "metadata": {},
   "outputs": [],
   "source": [
    "p = {'hidden_layers':[0, 1, 2],\n",
    "     'batch_size': [20, 30],\n",
    "     'epochs': [10, 50, 100],\n",
    "     'optimizer': [Nadam, Adam],\n",
    "     'losses': [categorical_crossentropy],\n",
    "     'activation':[relu, elu],\n",
    "     'last_activation': ['softmax']}"
   ]
  },
  {
   "cell_type": "code",
   "execution_count": null,
   "metadata": {},
   "outputs": [],
   "source": [
    "images, classification = load_images(folder)\n",
    "t = ta.Scan(x=images,\n",
    "            y=classification,\n",
    "            model=dsa_classifier_model,\n",
    "            params=p,\n",
    "            dataset_name='stroke_dataset',\n",
    "            experiment_no='1')"
   ]
  }
 ],
 "metadata": {
  "kernelspec": {
   "display_name": "Python 3",
   "language": "python",
   "name": "python3"
  },
  "language_info": {
   "codemirror_mode": {
    "name": "ipython",
    "version": 3
   },
   "file_extension": ".py",
   "mimetype": "text/x-python",
   "name": "python",
   "nbconvert_exporter": "python",
   "pygments_lexer": "ipython3",
   "version": "3.6.5"
  }
 },
 "nbformat": 4,
 "nbformat_minor": 2
}
