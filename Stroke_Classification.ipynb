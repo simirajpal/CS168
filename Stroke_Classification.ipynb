{
 "cells": [
  {
   "cell_type": "code",
   "execution_count": null,
   "metadata": {},
   "outputs": [],
   "source": [
    "import pydicom\n",
    "from matplotlib import pyplot as plt\n",
    "import numpy as np"
   ]
  },
  {
   "cell_type": "code",
   "execution_count": null,
   "metadata": {},
   "outputs": [],
   "source": [
    "dcmImage = pydicom.dcmread(\"trial.dcm\")\n",
    "dcm_scan = dcmImage.pixel_array\n",
    "print(np.shape(dcm_scan))"
   ]
  },
  {
   "cell_type": "code",
   "execution_count": 6,
   "metadata": {},
   "outputs": [],
   "source": [
    "from scipy.io import loadmat\n",
    "from matplotlib import pyplot as plt\n",
    "import os.path\n",
    "import numpy as np"
   ]
  },
  {
   "cell_type": "code",
   "execution_count": 4,
   "metadata": {},
   "outputs": [],
   "source": [
    "matFile = loadmat(os.path.join('data', 'fractals_192.mat'))\n",
    "matImage = matFile['X']\n",
    "ImageTICI = matFile['TICI_report']\n",
    "\n",
    "def load_images_from_folder(folder):\n",
    "    images = []\n",
    "    for filename in os.listdir(folder):\n",
    "        image = loadmat(os.path.join(folder, filename))\n",
    "        images.append(image)\n",
    "    return images\n",
    "\n",
    "prelim_images = load_images_from_folder('data')"
   ]
  },
  {
   "cell_type": "code",
   "execution_count": 20,
   "metadata": {},
   "outputs": [
    {
     "name": "stdout",
     "output_type": "stream",
     "text": [
      "(2, 3)\n",
      "(1, 3)\n"
     ]
    }
   ],
   "source": [
    "np.append([[1, 2, 3], [4, 5, 6]], [[7, 8, 9]], axis=0)\n",
    "print(np.array([[1, 2, 3], [4, 5, 6]]).shape)\n",
    "print(np.array([[7, 8, 9]]).shape)"
   ]
  },
  {
   "cell_type": "code",
   "execution_count": 54,
   "metadata": {},
   "outputs": [],
   "source": [
    "# find the most frames in an image and pad the others with zeros so that all have the same number of frames...\n",
    "def max_frames(images):\n",
    "    max_frames = 0\n",
    "    for im in images:\n",
    "        num_frames = im['X'].shape[2]\n",
    "        if num_frames > max_frames:\n",
    "            max_frames = num_frames\n",
    "    return max_frames\n",
    "\n",
    "def zero_padding(images, max_frams):\n",
    "    new_ims = []\n",
    "    for im in images:\n",
    "        num_frames = im['X'].shape[2]\n",
    "        if num_frames < max_frames:\n",
    "            num_pad = max_frames-num_frames\n",
    "            im_new = np.pad(im['X'], ((0, 0), (0, 0), (0, num_pad)), 'constant', constant_values = 0)\n",
    "        new_ims.append(im_new)\n",
    "    return new_ims\n",
    "\n",
    "\n",
    "def zero_padding(images, max_frames):\n",
    "    new_ims = []\n",
    "    for im in images:\n",
    "        num_frames = im['X'].shape[2]\n",
    "        if num_frames < max_frames:\n",
    "            num_pad = max_frames-num_frames\n",
    "            im_new = np.pad(im['X'], ((0, 0), (0, 0), (0, num_pad)), 'constant', constant_values = 0)\n",
    "        new_ims.append(im_new)\n",
    "    return new_ims\n",
    "\n",
    "def load_images(folder):\n",
    "    images = [loadmat(os.path.join(folder, filename))['X'] if filename == *.mat for filename in os.listdir(folder)]\n",
    "    classification = [loadmat(os.path.join(folder, filename))['TICI_report'] if filename == *.mat for filename in os.listdir(folder)]\n",
    "    return images, classification\n",
    "       \n",
    "# now they are all the same shape\n",
    "padded_ims = zero_padding(prelim_images)"
   ]
  },
  {
   "cell_type": "code",
   "execution_count": null,
   "metadata": {},
   "outputs": [],
   "source": [
    "class ProcessImage:\n",
    "\n",
    "    def __init__(self, folder=None):\n",
    "        self.names = os.listdir(folder)\n",
    "        self.folder = folder\n",
    "      \n",
    "    def __iter__(self):\n",
    "        for filename in self.names:\n",
    "            self.image = loadmat(os.path.join(self.folder, filename))\n",
    "      \n"
   ]
  },
  {
   "cell_type": "code",
   "execution_count": 55,
   "metadata": {},
   "outputs": [
    {
     "name": "stderr",
     "output_type": "stream",
     "text": [
      "C:\\Users\\simir\\Anaconda3\\lib\\site-packages\\h5py\\__init__.py:36: FutureWarning: Conversion of the second argument of issubdtype from `float` to `np.floating` is deprecated. In future, it will be treated as `np.float64 == np.dtype(float).type`.\n",
      "  from ._conv import register_converters as _register_converters\n",
      "Using TensorFlow backend.\n"
     ]
    }
   ],
   "source": [
    "# use keras inception v3 to train on the time stamped image frames\n",
    "from keras.applications.inception_v3 import InceptionV3\n",
    "from keras.optimizers import SGD\n",
    "from keras.preprocessing.image import ImageDataGenerator\n",
    "from keras.models import Model\n",
    "from keras.layers import Dense, GlobalAveragePooling3D"
   ]
  },
  {
   "cell_type": "code",
   "execution_count": null,
   "metadata": {},
   "outputs": [],
   "source": [
    "def create_model():\n",
    "    base_model = InceptionV3(weights='imagenet', include_top=False)\n",
    "\n",
    "    # DNN portion\n",
    "    # average pooling layer\n",
    "    x = GlobalAveragePooling3D()(base_model.output)\n",
    "    # fully-connected layer\n",
    "    x = Dense(1024, activation='relu')(x)\n",
    "    # logistic layer\n",
    "    predictions = Dense(5, activation='softmax')(x) # 5 is the number of classes in the data, since TICI is 0,1,2a,2b,3\n",
    "\n",
    "    model = Model(inputs=base_model.input, outputs=predictions)\n",
    "\n",
    "    #for layer in base_model.layers:\n",
    "    #    layer.trainable = False\n",
    "\n",
    "    model.compile(optimizer='rmsprop', loss='categorical_crossentropy', metrics=['accuracy'])\n",
    "\n",
    "    return model\n",
    "\n",
    "def create_generators(x_train, y_train, batch_size):\n",
    "    train_d_gen = ImageDataGenerator(\n",
    "        rotation_range=20,\n",
    "        width_shift_range=0.2,\n",
    "        height_shift_range=0.2,\n",
    "        horizontal_flip=True\n",
    "        target_size = (256, 256))\n",
    "    \n",
    "    train_d_gen.fit(x_train)\n",
    "    \n",
    "    train_gen = train_d_gen.flow(x_train, y_train, batch_size)\n",
    "    \n",
    "    validation_gen = ImageDataGenerator().flow(x_test, y_test)\n",
    "    \n",
    "    return train_generator, validation_generator\n",
    "\n",
    "def train_model(model, nb_epoch, generators, train_len, batch_size):\n",
    "    train_generator, validation_generator = generators\n",
    "    model.fit_generator(\n",
    "        train_generator,\n",
    "        steps_per_epoch=train_len // batch_size,\n",
    "        validation_data=validation_generator,\n",
    "        validation_steps=10,\n",
    "        epochs=nb_epoch)\n",
    "    return model"
   ]
  },
  {
   "cell_type": "code",
   "execution_count": null,
   "metadata": {},
   "outputs": [],
   "source": [
    "# crossvalidation \n",
    "from sklearn.metrics import roc_curve, auc\n",
    "from sklearn.model_selection import StratifiedKFold\n",
    "import os\n",
    "\n",
    "cv = StratifiedKFold(5)\n",
    "\n",
    "tprs = []\n",
    "aucs = []\n",
    "i = 1\n",
    "\n",
    "folder = ''\n",
    "\n",
    "images, classification = load_images(folder)\n",
    "\n",
    "model = create_model()\n",
    "batch_size = 32\n",
    "\n",
    "for train, test in cv.split(images, classification):\n",
    "    x_train = images[train]\n",
    "    y_train = classification[train]\n",
    "    x_test = images[test]\n",
    "    y_test = classification[test]\n",
    "    \n",
    "    generators = create_generators(x_train, y_train, batch_size)\n",
    "    model = train_model(model, 10, generators, len(x_train), batch_size)\n",
    "    \n",
    "    Y_pred = model.predict(x_test)\n",
    "    fpr, tprs, thresholds = roc_curve(y_test, Y_pred)\n",
    "    tpr.append(interp(mean_fpr, fpr, tpr))\n",
    "    tprs[-1][0] = 0.0\n",
    "    roc_auc = auc(fpr, tpr)\n",
    "    aucs.append(roc_auc)\n",
    "    plt.plot(fpr, tpr, lw = 1, alpha = 0.3, label = 'ROC fold %d (AUC - %0.2f)' % (i, roc_auc))\n",
    "    plt.legend()\n",
    "    i+=1\n",
    "    \n",
    "plt.plot([0, 1], [0, 1], linestyle='--', lw=2, color='r', label='Random Chance', alpha=.8)\n",
    "\n",
    "mean_fpr = np.linspace(0, 1, 100)\n",
    "mean_tpr = np.mean(tprs, axis=0)\n",
    "mean_tpr[-1] = 1.0\n",
    "mean_auc = metrics.auc(mean_fpr, mean_tpr)\n",
    "std_auc = np.std(aucs)\n",
    "plt.plot(mean_fpr, mean_tpr, color='b',label=r'Mean ROC (AUC = %0.2f $\\pm$ %0.2f)' % (mean_auc, std_auc))\n",
    "\n",
    "plt.xlim([-0.05, 1.05])\n",
    "plt.ylim([-0.05, 1.05])\n",
    "plt.xlabel('False Positive Rate')\n",
    "plt.ylabel('True Positive Rate')\n",
    "plt.title('PLS-DA ROC Curve with Crossvalidation')\n",
    "plt.legend(loc=\"lower right\")\n",
    "plt.savefig('ROC Curve for PLS-DA with Crossvalidation-14comp.jpg')"
   ]
  }
 ],
 "metadata": {
  "kernelspec": {
   "display_name": "Python 3",
   "language": "python",
   "name": "python3"
  },
  "language_info": {
   "codemirror_mode": {
    "name": "ipython",
    "version": 3
   },
   "file_extension": ".py",
   "mimetype": "text/x-python",
   "name": "python",
   "nbconvert_exporter": "python",
   "pygments_lexer": "ipython3",
   "version": "3.6.5"
  }
 },
 "nbformat": 4,
 "nbformat_minor": 2
}
