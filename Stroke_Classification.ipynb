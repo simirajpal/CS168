{
 "cells": [
  {
   "cell_type": "code",
   "execution_count": null,
   "metadata": {},
   "outputs": [],
   "source": [
    "import pydicom\n",
    "from matplotlib import pyplot as plt\n",
    "import numpy as np"
   ]
  },
  {
   "cell_type": "code",
   "execution_count": null,
   "metadata": {},
   "outputs": [],
   "source": [
    "dcmImage = pydicom.dcmread(\"trial.dcm\")\n",
    "dcm_scan = dcmImage.pixel_array\n",
    "print(np.shape(dcm_scan))"
   ]
  },
  {
   "cell_type": "code",
   "execution_count": null,
   "metadata": {},
   "outputs": [],
   "source": [
    "# preprocess the data"
   ]
  },
  {
   "cell_type": "code",
   "execution_count": null,
   "metadata": {},
   "outputs": [],
   "source": [
    "# use keras inception v3 to train on the time stamped image frames\n",
    "from keras.applications.inception_v3 import InceptionV3\n",
    "from keras.optimizers import SGD\n",
    "from keras.preprocessing.image import ImageDataGenerator\n",
    "from keras.models import Model\n",
    "from keras.layers import Dense, GlobalAveragePooling2D\n",
    "from keras.callbacks import ModelCheckpoint, TensorBoard, EarlyStopping"
   ]
  },
  {
   "cell_type": "code",
   "execution_count": null,
   "metadata": {},
   "outputs": [],
   "source": [
    "def create_model():\n",
    "    base_model = InceptionV3(weights='imagenet', include_top=False)\n",
    "\n",
    "    # average pooling layer\n",
    "    x = GlobalAveragePooling2D()(base_model.output)\n",
    "    # fully-connected layer\n",
    "    x = Dense(1024, activation='relu')(x)\n",
    "    # logistic layer\n",
    "    predictions = Dense(len(data.classes), activation='softmax')(x)\n",
    "\n",
    "    model = Model(inputs=base_model.input, outputs=predictions)\n",
    "\n",
    "    for layer in base_model.layers:\n",
    "        layer.trainable = False\n",
    "\n",
    "    model.compile(optimizer='rmsprop', loss='categorical_crossentropy', metrics=['accuracy'])\n",
    "\n",
    "    return model\n",
    "\n",
    "def create_generators():\n",
    "    train_gen = ImageDataGenerator(\n",
    "        rescale=1./255,\n",
    "        shear_range=0.2,\n",
    "        horizontal_flip=True,\n",
    "        rotation_range=10.,\n",
    "        width_shift_range=0.2,\n",
    "        height_shift_range=0.2).flow_from_directory(\n",
    "        './data/train/',\n",
    "        target_size=(299, 299),\n",
    "        batch_size=32,\n",
    "        classes=data.classes,\n",
    "        class_mode='categorical')\n",
    "\n",
    "    validation_gen = ImageDataGenerator(rescale=1./255).flow_from_directory(\n",
    "        './data/test/',\n",
    "        target_size=(299, 299),\n",
    "        batch_size=32,\n",
    "        classes=data.classes,\n",
    "        class_mode='categorical')\n",
    "\n",
    "    return train_generator, validation_generator\n",
    "\n",
    "def train_model(model, nb_epoch, generators, callbacks=[]):\n",
    "    train_generator, validation_generator = generators\n",
    "    model.fit_generator(\n",
    "        train_generator,\n",
    "        steps_per_epoch=100,\n",
    "        validation_data=validation_generator,\n",
    "        validation_steps=10,\n",
    "        epochs=nb_epoch,\n",
    "        callbacks=callbacks)\n",
    "    return model"
   ]
  },
  {
   "cell_type": "code",
   "execution_count": null,
   "metadata": {},
   "outputs": [],
   "source": [
    "checkpointer = ModelCheckpoint(\n",
    "    filepath='./data/checkpoints/inception.{epoch:03d}-{val_loss:.2f}.hdf5',\n",
    "    verbose=1,\n",
    "    save_best_only=True)\n",
    "\n",
    "early_stopper = EarlyStopping(patience=10)\n",
    "\n",
    "tensorboard = TensorBoard(log_dir='./data/logs/')\n",
    "\n",
    "model = create_model()\n",
    "generators = get_generators()\n",
    "\n",
    "model = train_model(model, 10, generators)"
   ]
  },
  {
   "cell_type": "code",
   "execution_count": null,
   "metadata": {},
   "outputs": [],
   "source": [
    "# general crossvalidation skeleton\n",
    "\n",
    "from sklearn.metrics import roc_curve, auc\n",
    "from sklearn.model_selection import StratifiedKFold\n",
    "\n",
    "tprs = []\n",
    "aucs = []\n",
    "i = 1\n",
    "\n",
    "for train, test in cv.split(X, Y):\n",
    "    model.fit(X[train], Y[train])\n",
    "    Y_pred = model.predict(X[test])\n",
    "    fpr, tprs, thresholds = roc_curve(Y[test], Y_pred)\n",
    "    tpr.append(interp(mean_fpr, fpr, tpr))\n",
    "    tprs[-1][0] = 0.0\n",
    "    roc_auc = auc(fpr, tpr)\n",
    "    aucs.append(roc_auc)\n",
    "    plt.plot(fpr, tpr, lw = 1, alpha = 0.3, label = 'ROC fold %d (AUC - %0.2f)' % (i, roc_auc))\n",
    "    plt.legend()\n",
    "    i+=1\n",
    "    \n",
    "plt.plot([0, 1], [0, 1], linestyle='--', lw=2, color='r', label='Random Chance', alpha=.8)\n",
    "\n",
    "mean_fpr = np.linspace(0, 1, 100)\n",
    "mean_tpr = np.mean(tprs, axis=0)\n",
    "mean_tpr[-1] = 1.0\n",
    "mean_auc = metrics.auc(mean_fpr, mean_tpr)\n",
    "std_auc = np.std(aucs)\n",
    "plt.plot(mean_fpr, mean_tpr, color='b',label=r'Mean ROC (AUC = %0.2f $\\pm$ %0.2f)' % (mean_auc, std_auc))\n",
    "\n",
    "plt.xlim([-0.05, 1.05])\n",
    "plt.ylim([-0.05, 1.05])\n",
    "plt.xlabel('False Positive Rate')\n",
    "plt.ylabel('True Positive Rate')\n",
    "plt.title('PLS-DA ROC Curve with Crossvalidation')\n",
    "plt.legend(loc=\"lower right\")\n",
    "plt.savefig('ROC Curve for PLS-DA with Crossvalidation-14comp.jpg')"
   ]
  }
 ],
 "metadata": {
  "kernelspec": {
   "display_name": "Python 3",
   "language": "python",
   "name": "python3"
  },
  "language_info": {
   "codemirror_mode": {
    "name": "ipython",
    "version": 3
   },
   "file_extension": ".py",
   "mimetype": "text/x-python",
   "name": "python",
   "nbconvert_exporter": "python",
   "pygments_lexer": "ipython3",
   "version": "3.6.5"
  }
 },
 "nbformat": 4,
 "nbformat_minor": 2
}
