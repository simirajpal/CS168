{
 "cells": [
  {
   "cell_type": "code",
   "execution_count": 1,
   "metadata": {},
   "outputs": [
    {
     "name": "stderr",
     "output_type": "stream",
     "text": [
      "Using TensorFlow backend.\n"
     ]
    }
   ],
   "source": [
    "from scipy.io import loadmat\n",
    "from matplotlib import pyplot as plt\n",
    "import os.path\n",
    "import os\n",
    "import numpy as np\n",
    "\n",
    "#from image_training import create_model, create_generators, train_model\n",
    "from image_training import create_model, train_model"
   ]
  },
  {
   "cell_type": "code",
   "execution_count": 2,
   "metadata": {},
   "outputs": [],
   "source": [
    "def zero_padding(images, max_frames):\n",
    "    new_ims = []\n",
    "    for im in images:\n",
    "        num_frames = im['X'].shape[2]\n",
    "        if num_frames < max_frames:\n",
    "            num_pad = max_frames-num_frames\n",
    "            im_new = np.pad(im['X'], ((0, 0), (0, 0), (0, num_pad)), 'constant', constant_values = 0)\n",
    "        new_ims.append(im_new)\n",
    "    return new_ims\n",
    "\n",
    "def load_images(folder):\n",
    "    images, classification = [], [] \n",
    "    for i in range(1, 202):\n",
    "        data_file = np.load('data/resized/fractals_' + str(i) + '.npy').item()\n",
    "        classif = data_file['TICI_report'][0]\n",
    "        if str(classif) == '[nan]':\n",
    "            continue\n",
    "        elif classif == '2a' or classif == '2b':\n",
    "            im = data_file['X']\n",
    "            imshape = im.shape\n",
    "            images.append(im.reshape(im.shape[0], im.shape[1], im.shape[2], 1))\n",
    "            classification.append(classif)\n",
    "        else:\n",
    "            im = data_file['X']\n",
    "            imshape = im.shape\n",
    "            images.append(im.reshape(im.shape[0], im.shape[1], im.shape[2], 1))\n",
    "            classification.append(classif[0])\n",
    "            \n",
    "    return images, classification"
   ]
  },
  {
   "cell_type": "code",
   "execution_count": null,
   "metadata": {},
   "outputs": [
    {
     "name": "stderr",
     "output_type": "stream",
     "text": [
      "/usr/local/lib/python3.5/dist-packages/ipykernel_launcher.py:18: FutureWarning: elementwise comparison failed; returning scalar instead, but in the future will perform elementwise comparison\n"
     ]
    },
    {
     "name": "stdout",
     "output_type": "stream",
     "text": [
      "WARNING:tensorflow:From /usr/local/lib/python3.5/dist-packages/tensorflow/python/framework/op_def_library.py:263: colocate_with (from tensorflow.python.framework.ops) is deprecated and will be removed in a future version.\n",
      "Instructions for updating:\n",
      "Colocations handled automatically by placer.\n",
      "WARNING:tensorflow:From /usr/local/lib/python3.5/dist-packages/tensorflow/python/ops/math_ops.py:3066: to_int32 (from tensorflow.python.ops.math_ops) is deprecated and will be removed in a future version.\n",
      "Instructions for updating:\n",
      "Use tf.cast instead.\n",
      "Train on 50 samples, validate on 50 samples\n",
      "Epoch 1/10\n"
     ]
    }
   ],
   "source": [
    "# crossvalidation \n",
    "from sklearn.metrics import roc_curve, auc\n",
    "from sklearn.model_selection import StratifiedKFold\n",
    "from scipy.io import loadmat\n",
    "import os\n",
    "\n",
    "cv = StratifiedKFold(n_splits = 2)\n",
    "\n",
    "tprs = []\n",
    "aucs = []\n",
    "i = 1\n",
    "\n",
    "\n",
    "folder = 'data/resized/'\n",
    "\n",
    "images, classification = load_images(folder)\n",
    "classification = np.array(classification)\n",
    "images = np.array(images)\n",
    "\n",
    "classification_cols = ['0', '1', '2a', '2b', '3']\n",
    "classification_edit = []\n",
    "for i in classification:\n",
    "    if i == '2a':\n",
    "        classification_edit.append(2)\n",
    "    elif i == '2b':\n",
    "        classification_edit.append(3)\n",
    "    elif i == '3':\n",
    "        classification_edit.append(4)\n",
    "    else:\n",
    "        classification_edit.append(int(i))\n",
    "        \n",
    "from keras.utils import to_categorical\n",
    "classification = to_categorical(classification_edit, 5)\n",
    "\n",
    "\n",
    "#imlist_shape = images.shape\n",
    "#images = images.reshape(imlist_shape[0], imlist_shape[1], imlist_shape[2], imlist_shape[3], 1)\n",
    "\n",
    "model = create_model(max_frames=39)\n",
    "batch_size = 32\n",
    "\n",
    "#generators = create_generators(images[:50], classification[:50], images[50:100], classification[50:100])\n",
    "#model = train_model(model, 10, generators, len(images[:100]))\n",
    "model = train_model(model, 10, images[:50], classification[:50], images[50:100], classification[50:100])\n",
    "\n",
    "Y_pred = model.predict(images[101:])"
   ]
  },
  {
   "cell_type": "markdown",
   "metadata": {},
   "source": [
    "## Use the Below Format for K Fold Crossvalidation"
   ]
  },
  {
   "cell_type": "code",
   "execution_count": null,
   "metadata": {},
   "outputs": [],
   "source": [
    "for train, test in cv.split(images, classification):\n",
    "    x_train = images[train]\n",
    "    y_train = classification[train]\n",
    "    x_test = images[test]\n",
    "    y_test = classification[test]\n",
    "    \n",
    "    generators = create_generators(x_train, y_train, batch_size)\n",
    "    model = train_model(model, 10, generators, len(x_train), batch_size)\n",
    "    \n",
    "    Y_pred = model.predict(x_test)\n",
    "    fpr, tprs, thresholds = roc_curve(y_test, Y_pred)\n",
    "    tpr.append(interp(mean_fpr, fpr, tpr))\n",
    "    tprs[-1][0] = 0.0\n",
    "    roc_auc = auc(fpr, tpr)\n",
    "    aucs.append(roc_auc)\n",
    "    plt.plot(fpr, tpr, lw = 1, alpha = 0.3, label = 'ROC fold %d (AUC - %0.2f)' % (i, roc_auc))\n",
    "    plt.legend()\n",
    "    i+=1\n",
    "    \n",
    "plt.plot([0, 1], [0, 1], linestyle='--', lw=2, color='r', label='Random Chance', alpha=.8)\n",
    "\n",
    "mean_fpr = np.linspace(0, 1, 100)\n",
    "mean_tpr = np.mean(tprs, axis=0)\n",
    "mean_tpr[-1] = 1.0\n",
    "mean_auc = metrics.auc(mean_fpr, mean_tpr)\n",
    "std_auc = np.std(aucs)\n",
    "plt.plot(mean_fpr, mean_tpr, color='b',label=r'Mean ROC (AUC = %0.2f $\\pm$ %0.2f)' % (mean_auc, std_auc))\n",
    "\n",
    "plt.xlim([-0.05, 1.05])\n",
    "plt.ylim([-0.05, 1.05])\n",
    "plt.xlabel('False Positive Rate')\n",
    "plt.ylabel('True Positive Rate')\n",
    "plt.title('PLS-DA ROC Curve with Crossvalidation')\n",
    "plt.legend(loc=\"lower right\")"
   ]
  }
 ],
 "metadata": {
  "kernelspec": {
   "display_name": "Python 3",
   "language": "python",
   "name": "python3"
  },
  "language_info": {
   "codemirror_mode": {
    "name": "ipython",
    "version": 3
   },
   "file_extension": ".py",
   "mimetype": "text/x-python",
   "name": "python",
   "nbconvert_exporter": "python",
   "pygments_lexer": "ipython3",
   "version": "3.5.3"
  }
 },
 "nbformat": 4,
 "nbformat_minor": 2
}
